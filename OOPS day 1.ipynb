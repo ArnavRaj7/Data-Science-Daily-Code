{
 "cells": [
  {
   "cell_type": "markdown",
   "id": "e1295e52-5aae-4eb0-9136-e8b6fb0bcaef",
   "metadata": {},
   "source": [
    "# Object Oriented Programming System"
   ]
  },
  {
   "cell_type": "code",
   "execution_count": 1,
   "id": "916a6154-d835-4fce-98cf-8fd9a199d88f",
   "metadata": {},
   "outputs": [
    {
     "name": "stdout",
     "output_type": "stream",
     "text": [
      "<class 'int'>\n"
     ]
    }
   ],
   "source": [
    "a=3\n",
    "print(type(a))"
   ]
  },
  {
   "cell_type": "code",
   "execution_count": 2,
   "id": "71d57bc8-28c3-474c-93ce-b2f6d2d9ea1a",
   "metadata": {},
   "outputs": [
    {
     "name": "stdout",
     "output_type": "stream",
     "text": [
      "<class 'str'>\n"
     ]
    }
   ],
   "source": [
    "a=\"Arnav\"\n",
    "print(type(a))"
   ]
  },
  {
   "cell_type": "code",
   "execution_count": 1,
   "id": "4d903127-1542-4f83-b8bb-52a0e6011717",
   "metadata": {},
   "outputs": [],
   "source": [
    "class test:\n",
    "    pass"
   ]
  },
  {
   "cell_type": "code",
   "execution_count": 2,
   "id": "3fb79afd-0128-4db2-ad79-6ef28d38bb6c",
   "metadata": {},
   "outputs": [],
   "source": [
    "a=test()"
   ]
  },
  {
   "cell_type": "code",
   "execution_count": 3,
   "id": "62ddf21a-93ae-480a-aba9-aabb6f75b677",
   "metadata": {},
   "outputs": [
    {
     "data": {
      "text/plain": [
       "__main__.test"
      ]
     },
     "execution_count": 3,
     "metadata": {},
     "output_type": "execute_result"
    }
   ],
   "source": [
    "type(a)"
   ]
  },
  {
   "cell_type": "code",
   "execution_count": 4,
   "id": "7b483f6b-31f9-4c40-af47-d02bd9d3adb4",
   "metadata": {},
   "outputs": [
    {
     "name": "stdout",
     "output_type": "stream",
     "text": [
      "<class '__main__.test'>\n"
     ]
    }
   ],
   "source": [
    "print(type(a))"
   ]
  },
  {
   "cell_type": "code",
   "execution_count": 6,
   "id": "0b715bad-b6ce-49e0-899c-cfea45d66d60",
   "metadata": {},
   "outputs": [],
   "source": [
    "class mriirs:\n",
    "    def welcome(self):\n",
    "        print(\"Welcome\")"
   ]
  },
  {
   "cell_type": "code",
   "execution_count": 8,
   "id": "1042ed7d-2f6f-4d1c-9130-a35efa44678b",
   "metadata": {},
   "outputs": [
    {
     "name": "stdout",
     "output_type": "stream",
     "text": [
      "Welcome\n"
     ]
    }
   ],
   "source": [
    "arnav = mriirs()\n",
    "arnav.welcome()"
   ]
  },
  {
   "cell_type": "code",
   "execution_count": 9,
   "id": "b7249928-2ddb-4420-b557-7824e4b205bd",
   "metadata": {},
   "outputs": [
    {
     "name": "stdout",
     "output_type": "stream",
     "text": [
      "Welcome\n"
     ]
    }
   ],
   "source": [
    "shashank=mriirs()\n",
    "shashank.welcome()"
   ]
  },
  {
   "cell_type": "code",
   "execution_count": 10,
   "id": "2a09837a-c43e-4762-8597-401bef700e6c",
   "metadata": {},
   "outputs": [],
   "source": [
    "# Passing Data in a Class\n",
    "\n",
    "class mriirs:\n",
    "    \n",
    "    def __init__(self, ph_no,email,rollno):\n",
    "        self.ph_no=ph_no\n",
    "        self.email=email\n",
    "        self.rollno=rollno\n",
    "    \n",
    "    def return_data(self):\n",
    "        return self.ph_no,self.email,self.rollno"
   ]
  },
  {
   "cell_type": "code",
   "execution_count": 12,
   "id": "f813e1c6-c63c-40d6-8abc-c03e3f719404",
   "metadata": {},
   "outputs": [],
   "source": [
    "arnav=mriirs(9876543,\"arnav@gmail\",112)"
   ]
  },
  {
   "cell_type": "code",
   "execution_count": 16,
   "id": "947a9511-19a0-4861-a627-4b1836fcd8e7",
   "metadata": {},
   "outputs": [
    {
     "data": {
      "text/plain": [
       "9876543"
      ]
     },
     "execution_count": 16,
     "metadata": {},
     "output_type": "execute_result"
    }
   ],
   "source": [
    "arnav.ph_no"
   ]
  },
  {
   "cell_type": "code",
   "execution_count": 17,
   "id": "17d8f2ec-3455-4ee4-9021-60db96b477b7",
   "metadata": {},
   "outputs": [
    {
     "data": {
      "text/plain": [
       "'arnav@gmail'"
      ]
     },
     "execution_count": 17,
     "metadata": {},
     "output_type": "execute_result"
    }
   ],
   "source": [
    "arnav.email"
   ]
  },
  {
   "cell_type": "code",
   "execution_count": 18,
   "id": "820b9936-179b-453d-8af3-817ca23d4a45",
   "metadata": {},
   "outputs": [
    {
     "data": {
      "text/plain": [
       "112"
      ]
     },
     "execution_count": 18,
     "metadata": {},
     "output_type": "execute_result"
    }
   ],
   "source": [
    "arnav.rollno"
   ]
  },
  {
   "cell_type": "code",
   "execution_count": 21,
   "id": "c20f43eb-4821-45fd-b268-273651cefcef",
   "metadata": {},
   "outputs": [
    {
     "data": {
      "text/plain": [
       "(9876543, 'arnav@gmail', 112)"
      ]
     },
     "execution_count": 21,
     "metadata": {},
     "output_type": "execute_result"
    }
   ],
   "source": [
    "arnav.return_data()"
   ]
  },
  {
   "cell_type": "code",
   "execution_count": 35,
   "id": "fdc0e166-8f0a-4662-8c55-e2df9b17893a",
   "metadata": {},
   "outputs": [],
   "source": [
    "class gbn:\n",
    "    \n",
    "    def __init__(self,phno,email):\n",
    "        self.phno=phno\n",
    "        self.email=email\n",
    "        \n",
    "    def returnxyz(self):\n",
    "        return self.phno,self.email"
   ]
  },
  {
   "cell_type": "code",
   "execution_count": 36,
   "id": "aabde3a4-59af-44ee-bdc6-320ede94880e",
   "metadata": {},
   "outputs": [],
   "source": [
    "arnav=gbn(987654321,\"arnav@gbn\")"
   ]
  },
  {
   "cell_type": "code",
   "execution_count": 37,
   "id": "af2da1ea-bd0f-453a-b791-20cde7d3ec37",
   "metadata": {},
   "outputs": [
    {
     "data": {
      "text/plain": [
       "(987654321, 'arnav@gbn')"
      ]
     },
     "execution_count": 37,
     "metadata": {},
     "output_type": "execute_result"
    }
   ],
   "source": [
    "arnav.returnxyz()"
   ]
  },
  {
   "cell_type": "code",
   "execution_count": 60,
   "id": "2e6ad5f5-7423-4203-a9c5-aa342a59757c",
   "metadata": {},
   "outputs": [],
   "source": [
    "class mvn:\n",
    "    \n",
    "    def __init__(a,phno,email):\n",
    "        a.p=phno\n",
    "        a.e=email\n",
    "        \n",
    "    def returnxyz(a):\n",
    "        return a.p,a.e"
   ]
  },
  {
   "cell_type": "code",
   "execution_count": 64,
   "id": "3a0aa924-2a67-4f34-9782-3f7af0327191",
   "metadata": {},
   "outputs": [],
   "source": [
    "s=arnav=mvn(9876543,\"arnav@mvn\")"
   ]
  },
  {
   "cell_type": "code",
   "execution_count": 65,
   "id": "e6cf3491-0e83-465a-8d32-63a06965935f",
   "metadata": {},
   "outputs": [
    {
     "data": {
      "text/plain": [
       "9876543"
      ]
     },
     "execution_count": 65,
     "metadata": {},
     "output_type": "execute_result"
    }
   ],
   "source": [
    "arnav.p"
   ]
  },
  {
   "cell_type": "code",
   "execution_count": 66,
   "id": "e2ba5475-46bb-4eae-9b9f-e2d312478b42",
   "metadata": {},
   "outputs": [
    {
     "data": {
      "text/plain": [
       "'arnav@mvn'"
      ]
     },
     "execution_count": 66,
     "metadata": {},
     "output_type": "execute_result"
    }
   ],
   "source": [
    "arnav.e"
   ]
  },
  {
   "cell_type": "code",
   "execution_count": 67,
   "id": "c264a025-0390-497b-a160-3e0d1ea53ae3",
   "metadata": {},
   "outputs": [
    {
     "data": {
      "text/plain": [
       "<__main__.mvn at 0x7f70f1f20af0>"
      ]
     },
     "execution_count": 67,
     "metadata": {},
     "output_type": "execute_result"
    }
   ],
   "source": [
    "s"
   ]
  },
  {
   "cell_type": "code",
   "execution_count": 68,
   "id": "be30aa16-8833-4395-9b37-a0f94eacebc3",
   "metadata": {},
   "outputs": [
    {
     "name": "stdout",
     "output_type": "stream",
     "text": [
      "<__main__.mvn object at 0x7f70f1f20af0>\n"
     ]
    }
   ],
   "source": [
    "print(s)"
   ]
  },
  {
   "cell_type": "code",
   "execution_count": 69,
   "id": "4f710809-4c2d-40f8-ad9c-57085394503d",
   "metadata": {},
   "outputs": [
    {
     "name": "stdout",
     "output_type": "stream",
     "text": [
      "<class '__main__.mvn'>\n"
     ]
    }
   ],
   "source": [
    "print(type(s))"
   ]
  },
  {
   "cell_type": "code",
   "execution_count": 70,
   "id": "868b6f00-9818-453f-a9ee-20bef8524bff",
   "metadata": {},
   "outputs": [
    {
     "data": {
      "text/plain": [
       "'arnav@mvn'"
      ]
     },
     "execution_count": 70,
     "metadata": {},
     "output_type": "execute_result"
    }
   ],
   "source": [
    "arnav.e"
   ]
  },
  {
   "cell_type": "code",
   "execution_count": 71,
   "id": "cde47172-a2c0-4d6f-887d-58d509aed180",
   "metadata": {},
   "outputs": [
    {
     "data": {
      "text/plain": [
       "'arnav@mvn'"
      ]
     },
     "execution_count": 71,
     "metadata": {},
     "output_type": "execute_result"
    }
   ],
   "source": [
    "s.e"
   ]
  },
  {
   "cell_type": "code",
   "execution_count": 72,
   "id": "f04f93b6-7714-4208-896e-a7c4555b80af",
   "metadata": {},
   "outputs": [
    {
     "data": {
      "text/plain": [
       "9876543"
      ]
     },
     "execution_count": 72,
     "metadata": {},
     "output_type": "execute_result"
    }
   ],
   "source": [
    "s.p"
   ]
  },
  {
   "cell_type": "code",
   "execution_count": 73,
   "id": "824c336c-9fa0-47ad-880f-492290a8f149",
   "metadata": {},
   "outputs": [
    {
     "data": {
      "text/plain": [
       "(9876543, 'arnav@mvn')"
      ]
     },
     "execution_count": 73,
     "metadata": {},
     "output_type": "execute_result"
    }
   ],
   "source": [
    "s.returnxyz()"
   ]
  },
  {
   "cell_type": "code",
   "execution_count": null,
   "id": "1c7c68f7-3602-48a2-b14e-001116003fb7",
   "metadata": {},
   "outputs": [],
   "source": []
  }
 ],
 "metadata": {
  "kernelspec": {
   "display_name": "Python 3 (ipykernel)",
   "language": "python",
   "name": "python3"
  },
  "language_info": {
   "codemirror_mode": {
    "name": "ipython",
    "version": 3
   },
   "file_extension": ".py",
   "mimetype": "text/x-python",
   "name": "python",
   "nbconvert_exporter": "python",
   "pygments_lexer": "ipython3",
   "version": "3.10.8"
  }
 },
 "nbformat": 4,
 "nbformat_minor": 5
}
