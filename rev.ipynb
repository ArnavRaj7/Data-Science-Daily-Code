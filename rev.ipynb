{
 "cells": [
  {
   "cell_type": "code",
   "execution_count": 2,
   "id": "b88dd80d-1b24-48f6-aaa9-55606f98098a",
   "metadata": {},
   "outputs": [
    {
     "name": "stdout",
     "output_type": "stream",
     "text": [
      "45\n",
      "47\n",
      "49\n",
      "51\n",
      "53\n"
     ]
    }
   ],
   "source": [
    "a=45\n",
    "while a<55:\n",
    "    print(a)\n",
    "    a=a+2"
   ]
  },
  {
   "cell_type": "code",
   "execution_count": 5,
   "id": "dac68ae5-984c-4f30-afed-b4068d113b8d",
   "metadata": {},
   "outputs": [
    {
     "name": "stdout",
     "output_type": "stream",
     "text": [
      "112\n",
      "arnav\n",
      "a:c\n"
     ]
    }
   ],
   "source": [
    "l=[112,\"arnav\",\"a:c\"]\n",
    "for x in l:\n",
    "    print((x))"
   ]
  },
  {
   "cell_type": "code",
   "execution_count": 18,
   "id": "c22f9cb0-2bf9-43ff-8e05-4975a9a55055",
   "metadata": {},
   "outputs": [
    {
     "name": "stdout",
     "output_type": "stream",
     "text": [
      "*\n",
      "**\n",
      "***\n",
      "****\n"
     ]
    }
   ],
   "source": [
    "for i in range(1,5):\n",
    "    for j in range(1,5):\n",
    "        if j<=i:\n",
    "            print(\"*\",end='')\n",
    "        else:\n",
    "            print(\"\",end='')\n",
    "    print()"
   ]
  },
  {
   "cell_type": "code",
   "execution_count": 19,
   "id": "c1bfd34e-7935-44a7-98f3-bedffb555961",
   "metadata": {},
   "outputs": [
    {
     "name": "stdout",
     "output_type": "stream",
     "text": [
      "*\n",
      "**\n",
      "***\n",
      "****\n",
      "*****\n"
     ]
    }
   ],
   "source": [
    "n=5\n",
    "for i in range(n):\n",
    "    for j in range(0,i+1):\n",
    "        print(\"*\",end='')\n",
    "    print(\"\\r\")\n",
    "    "
   ]
  },
  {
   "cell_type": "code",
   "execution_count": 5,
   "id": "ffc7b1f0-1eaa-4363-8a00-7c942852e262",
   "metadata": {},
   "outputs": [
    {
     "name": "stdout",
     "output_type": "stream",
     "text": [
      "*****\n",
      "****\n",
      "***\n",
      "**\n",
      "*\n"
     ]
    }
   ],
   "source": [
    "n=5\n",
    "for i in range(0,n):\n",
    "    for j in range(0,n):\n",
    "        if j>=i:\n",
    "            print(\"*\",end='')\n",
    "        else:\n",
    "            print(\"\",end='')\n",
    "    print()"
   ]
  },
  {
   "cell_type": "code",
   "execution_count": 15,
   "id": "aad6d54d-999b-4fcc-8b30-ba77cb0a39ff",
   "metadata": {},
   "outputs": [
    {
     "name": "stdout",
     "output_type": "stream",
     "text": [
      "*\n",
      "**\n",
      "***\n",
      "****\n"
     ]
    }
   ],
   "source": [
    "n=5\n",
    "for i in range(1,5):\n",
    "    for j in range(1,5):\n",
    "        if j>=5-i:\n",
    "            print(\"*\",end='')\n",
    "        else:\n",
    "            print(\"\",end='')\n",
    "    print()\n",
    "        "
   ]
  },
  {
   "cell_type": "code",
   "execution_count": 1,
   "id": "7a522e25-a5ed-4264-8a40-409ea06035b0",
   "metadata": {},
   "outputs": [],
   "source": [
    "a= \"data science masters\""
   ]
  },
  {
   "cell_type": "code",
   "execution_count": 2,
   "id": "8d287934-a732-485a-9aef-2fa0bc543a9a",
   "metadata": {},
   "outputs": [
    {
     "data": {
      "text/plain": [
       "'data science masters'"
      ]
     },
     "execution_count": 2,
     "metadata": {},
     "output_type": "execute_result"
    }
   ],
   "source": [
    "a"
   ]
  },
  {
   "cell_type": "code",
   "execution_count": 3,
   "id": "2a823fb4-b391-488c-ad45-0e6610e77f60",
   "metadata": {},
   "outputs": [],
   "source": [
    "a=a.title()"
   ]
  },
  {
   "cell_type": "code",
   "execution_count": 4,
   "id": "45bbd51d-f9f5-4432-b3c5-07d282b980da",
   "metadata": {},
   "outputs": [
    {
     "data": {
      "text/plain": [
       "'Data Science Masters'"
      ]
     },
     "execution_count": 4,
     "metadata": {},
     "output_type": "execute_result"
    }
   ],
   "source": [
    "a"
   ]
  },
  {
   "cell_type": "code",
   "execution_count": 5,
   "id": "040589e8-27d8-4eb7-9250-a09721324bea",
   "metadata": {},
   "outputs": [],
   "source": [
    "a=a.lower()"
   ]
  },
  {
   "cell_type": "code",
   "execution_count": 6,
   "id": "3557374b-6880-45e8-ad65-862d93d83c40",
   "metadata": {},
   "outputs": [
    {
     "data": {
      "text/plain": [
       "'data science masters'"
      ]
     },
     "execution_count": 6,
     "metadata": {},
     "output_type": "execute_result"
    }
   ],
   "source": [
    "a"
   ]
  },
  {
   "cell_type": "code",
   "execution_count": 9,
   "id": "6252ceb8-de80-4e93-97ec-80d784e2e5d0",
   "metadata": {},
   "outputs": [],
   "source": [
    "a=a.capitalize()"
   ]
  },
  {
   "cell_type": "code",
   "execution_count": 10,
   "id": "51f61f56-7692-4d89-bcd3-6e663d091134",
   "metadata": {},
   "outputs": [
    {
     "data": {
      "text/plain": [
       "'Data science masters'"
      ]
     },
     "execution_count": 10,
     "metadata": {},
     "output_type": "execute_result"
    }
   ],
   "source": [
    "a"
   ]
  },
  {
   "cell_type": "code",
   "execution_count": 13,
   "id": "09a7b325-cd20-497b-9cac-f5382470c3e5",
   "metadata": {},
   "outputs": [
    {
     "data": {
      "text/plain": [
       "3"
      ]
     },
     "execution_count": 13,
     "metadata": {},
     "output_type": "execute_result"
    }
   ],
   "source": [
    "a.count('a')"
   ]
  },
  {
   "cell_type": "code",
   "execution_count": 14,
   "id": "51214119-2537-43e6-937e-d84c227fff3f",
   "metadata": {},
   "outputs": [
    {
     "data": {
      "text/plain": [
       "3"
      ]
     },
     "execution_count": 14,
     "metadata": {},
     "output_type": "execute_result"
    }
   ],
   "source": [
    "a.count('e')"
   ]
  },
  {
   "cell_type": "code",
   "execution_count": 15,
   "id": "7325abb9-3ee0-4ecf-9a8b-4c4220139fd7",
   "metadata": {},
   "outputs": [],
   "source": [
    "list=[]\n",
    "for i in range(0,51,5):\n",
    "    list.append(i)"
   ]
  },
  {
   "cell_type": "code",
   "execution_count": 16,
   "id": "ebb6e9c7-ba84-4ef2-ac64-c1bfa0043598",
   "metadata": {},
   "outputs": [
    {
     "data": {
      "text/plain": [
       "[0, 5, 10, 15, 20, 25, 30, 35, 40, 45, 50]"
      ]
     },
     "execution_count": 16,
     "metadata": {},
     "output_type": "execute_result"
    }
   ],
   "source": [
    "list"
   ]
  },
  {
   "cell_type": "code",
   "execution_count": 22,
   "id": "45933cca-5261-4e8e-9322-fff9c5de8e6e",
   "metadata": {},
   "outputs": [
    {
     "name": "stdout",
     "output_type": "stream",
     "text": [
      "A is a Vowel\n",
      "r is not a Vowel\n",
      "n is not a Vowel\n",
      "a is a Vowel\n",
      "v is not a Vowel\n",
      "  is not a Vowel\n",
      "L is not a Vowel\n",
      "a is a Vowel\n",
      "k is not a Vowel\n",
      "h is not a Vowel\n",
      "a is a Vowel\n"
     ]
    }
   ],
   "source": [
    "a= \"Arnav Lakha\"\n",
    "vowels='aAeEiIoOuU'\n",
    "for i in a:\n",
    "    if i in vowels:\n",
    "        print(\"{} is a Vowel\".format(i))\n",
    "    else:\n",
    "        print(\"{} is not a Vowel\".format(i))"
   ]
  },
  {
   "cell_type": "code",
   "execution_count": 23,
   "id": "ec65965a-c82a-4312-9784-e5a7c8d2f1b8",
   "metadata": {},
   "outputs": [],
   "source": [
    "a=\"Arnav Raj Lakha\"\n"
   ]
  },
  {
   "cell_type": "code",
   "execution_count": 24,
   "id": "3b07ab83-b47e-4506-9a5d-2561623be169",
   "metadata": {},
   "outputs": [
    {
     "data": {
      "text/plain": [
       "'Arnav Raj Lakha'"
      ]
     },
     "execution_count": 24,
     "metadata": {},
     "output_type": "execute_result"
    }
   ],
   "source": [
    "a"
   ]
  },
  {
   "cell_type": "code",
   "execution_count": 29,
   "id": "ae681898-36dd-4e00-925c-82bc0cf82b29",
   "metadata": {},
   "outputs": [],
   "source": [
    "list=(a.split())"
   ]
  },
  {
   "cell_type": "code",
   "execution_count": 30,
   "id": "cca2b88a-37b2-4a04-9442-33076b09712b",
   "metadata": {},
   "outputs": [
    {
     "data": {
      "text/plain": [
       "['Arnav', 'Raj', 'Lakha']"
      ]
     },
     "execution_count": 30,
     "metadata": {},
     "output_type": "execute_result"
    }
   ],
   "source": [
    "list"
   ]
  },
  {
   "cell_type": "code",
   "execution_count": 35,
   "id": "dae2ef7c-2d8a-4a0b-9c93-17dd9728845a",
   "metadata": {},
   "outputs": [],
   "source": [
    "list.append('is' 'the' 'Best')"
   ]
  },
  {
   "cell_type": "code",
   "execution_count": 36,
   "id": "b218bd1f-7ee4-4de6-a134-4ec446e8e196",
   "metadata": {},
   "outputs": [
    {
     "data": {
      "text/plain": [
       "['Arnav', 'Raj', 'Lakha', 'is the Best', 'istheBest', 'istheBest']"
      ]
     },
     "execution_count": 36,
     "metadata": {},
     "output_type": "execute_result"
    }
   ],
   "source": [
    "list"
   ]
  },
  {
   "cell_type": "code",
   "execution_count": 43,
   "id": "459a60fa-cb04-462e-aba0-6e87c19e554b",
   "metadata": {},
   "outputs": [],
   "source": [
    "del list[30:40]"
   ]
  },
  {
   "cell_type": "code",
   "execution_count": 45,
   "id": "8d5619a2-90c9-4754-916d-83e4fef053b2",
   "metadata": {},
   "outputs": [],
   "source": [
    "del list[20:30]"
   ]
  },
  {
   "cell_type": "code",
   "execution_count": 52,
   "id": "bd3f4143-249a-4a5f-9f74-d6d0511d19f0",
   "metadata": {},
   "outputs": [
    {
     "data": {
      "text/plain": [
       "['Arnav', 'Raj', 'Lakha']"
      ]
     },
     "execution_count": 52,
     "metadata": {},
     "output_type": "execute_result"
    }
   ],
   "source": [
    "del list[3:7]\n",
    "list"
   ]
  },
  {
   "cell_type": "code",
   "execution_count": 50,
   "id": "fcc7a372-bec1-459b-8f7a-616b258d796d",
   "metadata": {},
   "outputs": [],
   "source": [
    "a=list[0:3]"
   ]
  },
  {
   "cell_type": "code",
   "execution_count": 51,
   "id": "ac96efa4-cf96-41aa-b633-7fed3f939be6",
   "metadata": {},
   "outputs": [
    {
     "data": {
      "text/plain": [
       "['Arnav', 'Raj', 'Lakha']"
      ]
     },
     "execution_count": 51,
     "metadata": {},
     "output_type": "execute_result"
    }
   ],
   "source": [
    "a"
   ]
  },
  {
   "cell_type": "code",
   "execution_count": 53,
   "id": "47eb9e9b-a002-431a-96b1-92efdd5d9e16",
   "metadata": {},
   "outputs": [
    {
     "data": {
      "text/plain": [
       "dict"
      ]
     },
     "execution_count": 53,
     "metadata": {},
     "output_type": "execute_result"
    }
   ],
   "source": [
    "type({})"
   ]
  },
  {
   "cell_type": "code",
   "execution_count": 54,
   "id": "adab763f-5253-439f-9b5f-895233bbb615",
   "metadata": {},
   "outputs": [],
   "source": [
    "a={'x':'arnav','y':'lakha'}"
   ]
  },
  {
   "cell_type": "code",
   "execution_count": 55,
   "id": "582058cc-2a08-4dd3-a5ef-7b8231be103d",
   "metadata": {},
   "outputs": [
    {
     "data": {
      "text/plain": [
       "{'x': 'arnav', 'y': 'lakha'}"
      ]
     },
     "execution_count": 55,
     "metadata": {},
     "output_type": "execute_result"
    }
   ],
   "source": [
    "a\n"
   ]
  },
  {
   "cell_type": "code",
   "execution_count": 58,
   "id": "6e95c5e2-a306-43d6-9439-c8fe26bec619",
   "metadata": {},
   "outputs": [
    {
     "data": {
      "text/plain": [
       "dict_values(['arnav', 'lakha'])"
      ]
     },
     "execution_count": 58,
     "metadata": {},
     "output_type": "execute_result"
    }
   ],
   "source": [
    "a.values()"
   ]
  },
  {
   "cell_type": "code",
   "execution_count": 59,
   "id": "b0d863d7-e640-4efb-b8fe-ccdf93f567a5",
   "metadata": {},
   "outputs": [
    {
     "data": {
      "text/plain": [
       "dict_keys(['x', 'y'])"
      ]
     },
     "execution_count": 59,
     "metadata": {},
     "output_type": "execute_result"
    }
   ],
   "source": [
    "a.keys()"
   ]
  },
  {
   "cell_type": "code",
   "execution_count": 60,
   "id": "cfebe84e-a575-4b87-a135-55ca45de8c12",
   "metadata": {},
   "outputs": [],
   "source": [
    "d={i:i**2 for i in range(0,6)}"
   ]
  },
  {
   "cell_type": "code",
   "execution_count": 61,
   "id": "804bd95b-5456-492b-952e-c34120fd8dc5",
   "metadata": {},
   "outputs": [
    {
     "data": {
      "text/plain": [
       "{0: 0, 1: 1, 2: 4, 3: 9, 4: 16, 5: 25}"
      ]
     },
     "execution_count": 61,
     "metadata": {},
     "output_type": "execute_result"
    }
   ],
   "source": [
    "d"
   ]
  },
  {
   "cell_type": "code",
   "execution_count": 62,
   "id": "31ce9939-755f-402f-b86b-059f58538b2d",
   "metadata": {},
   "outputs": [
    {
     "data": {
      "text/plain": [
       "{1, 2, 3, 4}"
      ]
     },
     "execution_count": 62,
     "metadata": {},
     "output_type": "execute_result"
    }
   ],
   "source": [
    "a={1,1,1,1,1,2,2,2,3,3,4,4,4,4,3,3,3}\n",
    "a"
   ]
  },
  {
   "cell_type": "code",
   "execution_count": 63,
   "id": "1e2f6ee1-e417-4b53-9c04-78b83c003cd0",
   "metadata": {},
   "outputs": [
    {
     "data": {
      "text/plain": [
       "{1, 2, 3, 4}"
      ]
     },
     "execution_count": 63,
     "metadata": {},
     "output_type": "execute_result"
    }
   ],
   "source": [
    "a"
   ]
  },
  {
   "cell_type": "code",
   "execution_count": 64,
   "id": "390d4427-15cf-4e00-9d99-c581e466a599",
   "metadata": {},
   "outputs": [],
   "source": [
    "a={34,223,42,19}"
   ]
  },
  {
   "cell_type": "code",
   "execution_count": 65,
   "id": "8d34e9e7-af79-4aa7-9dd9-5b840e42880c",
   "metadata": {},
   "outputs": [
    {
     "data": {
      "text/plain": [
       "{19, 34, 42, 223}"
      ]
     },
     "execution_count": 65,
     "metadata": {},
     "output_type": "execute_result"
    }
   ],
   "source": [
    "a"
   ]
  },
  {
   "cell_type": "code",
   "execution_count": 72,
   "id": "9fc40acf-06da-4ab8-b19d-384ecb158d8d",
   "metadata": {},
   "outputs": [
    {
     "data": {
      "text/plain": [
       "[123, 231, 431, 543]"
      ]
     },
     "execution_count": 72,
     "metadata": {},
     "output_type": "execute_result"
    }
   ],
   "source": [
    "l=[123,231,431,543]\n",
    "l"
   ]
  },
  {
   "cell_type": "code",
   "execution_count": 75,
   "id": "f2321168-f4bf-464d-90df-9606bd69fa85",
   "metadata": {},
   "outputs": [],
   "source": [
    "a=set(l)"
   ]
  },
  {
   "cell_type": "code",
   "execution_count": 76,
   "id": "45524a74-e7c6-4708-9c1f-d93eb0340561",
   "metadata": {},
   "outputs": [
    {
     "data": {
      "text/plain": [
       "{123, 231, 431, 543}"
      ]
     },
     "execution_count": 76,
     "metadata": {},
     "output_type": "execute_result"
    }
   ],
   "source": [
    "a"
   ]
  },
  {
   "cell_type": "code",
   "execution_count": 77,
   "id": "d2a4a114-3569-4162-92bb-6b5daf91b1ff",
   "metadata": {},
   "outputs": [
    {
     "data": {
      "text/plain": [
       "[65, 34, 78, 23, 32]"
      ]
     },
     "execution_count": 77,
     "metadata": {},
     "output_type": "execute_result"
    }
   ],
   "source": [
    "w=[65,34,78,23,32]\n",
    "w"
   ]
  },
  {
   "cell_type": "code",
   "execution_count": 78,
   "id": "eed72884-6476-4577-99ea-5bc32ed10e23",
   "metadata": {},
   "outputs": [],
   "source": [
    "q=set(w)"
   ]
  },
  {
   "cell_type": "code",
   "execution_count": 79,
   "id": "2f5774f6-bf85-427c-a33e-785b9fcd6ddf",
   "metadata": {},
   "outputs": [
    {
     "data": {
      "text/plain": [
       "{23, 32, 34, 65, 78}"
      ]
     },
     "execution_count": 79,
     "metadata": {},
     "output_type": "execute_result"
    }
   ],
   "source": [
    "q"
   ]
  },
  {
   "cell_type": "code",
   "execution_count": 83,
   "id": "06f77249-e6ef-4a83-8ab4-4e857a208500",
   "metadata": {},
   "outputs": [
    {
     "data": {
      "text/plain": [
       "{23, 32, 34, 65, 78}"
      ]
     },
     "execution_count": 83,
     "metadata": {},
     "output_type": "execute_result"
    }
   ],
   "source": [
    "q"
   ]
  },
  {
   "cell_type": "code",
   "execution_count": 95,
   "id": "f511f2f4-b1c9-4b80-9df0-479c70fa7d87",
   "metadata": {},
   "outputs": [
    {
     "data": {
      "text/plain": [
       "{0, 1, 2, 3, 4}"
      ]
     },
     "execution_count": 95,
     "metadata": {},
     "output_type": "execute_result"
    }
   ],
   "source": [
    "a={4,3,2,1,0}\n",
    "a"
   ]
  },
  {
   "cell_type": "code",
   "execution_count": 100,
   "id": "1c1e120d-e686-4f9b-9f3c-daa22bb10f00",
   "metadata": {},
   "outputs": [
    {
     "data": {
      "text/plain": [
       "(0, 1, 2, 3, 4)"
      ]
     },
     "execution_count": 100,
     "metadata": {},
     "output_type": "execute_result"
    }
   ],
   "source": [
    "w=tuple(a)\n",
    "w"
   ]
  },
  {
   "cell_type": "code",
   "execution_count": 101,
   "id": "0b81caa9-8dc6-457d-816a-29a2dc36f14c",
   "metadata": {},
   "outputs": [
    {
     "ename": "TypeError",
     "evalue": "'list' object is not callable",
     "output_type": "error",
     "traceback": [
      "\u001b[0;31m---------------------------------------------------------------------------\u001b[0m",
      "\u001b[0;31mTypeError\u001b[0m                                 Traceback (most recent call last)",
      "Cell \u001b[0;32mIn[101], line 1\u001b[0m\n\u001b[0;32m----> 1\u001b[0m r\u001b[38;5;241m=\u001b[39m\u001b[38;5;28;43mlist\u001b[39;49m\u001b[43m(\u001b[49m\u001b[43mw\u001b[49m\u001b[43m)\u001b[49m\n",
      "\u001b[0;31mTypeError\u001b[0m: 'list' object is not callable"
     ]
    }
   ],
   "source": [
    "r=list(w)"
   ]
  },
  {
   "cell_type": "code",
   "execution_count": 1,
   "id": "051715b1-3930-490e-a5f5-a162b2e03eff",
   "metadata": {},
   "outputs": [],
   "source": [
    "def test():\n",
    "    print(\"This is my First Function\")"
   ]
  },
  {
   "cell_type": "code",
   "execution_count": 2,
   "id": "520726d0-80e7-4323-b74d-c29bf8a6dd82",
   "metadata": {},
   "outputs": [
    {
     "name": "stdout",
     "output_type": "stream",
     "text": [
      "This is my First Function\n"
     ]
    }
   ],
   "source": [
    "test()"
   ]
  },
  {
   "cell_type": "code",
   "execution_count": 3,
   "id": "61ccd837-dfa2-4d31-b860-fafa4bf2701e",
   "metadata": {},
   "outputs": [],
   "source": [
    "def s():\n",
    "    return \"This is a Function\""
   ]
  },
  {
   "cell_type": "code",
   "execution_count": 4,
   "id": "223e0d25-2932-44be-8f06-c35b93ced396",
   "metadata": {},
   "outputs": [
    {
     "data": {
      "text/plain": [
       "'This is a Function'"
      ]
     },
     "execution_count": 4,
     "metadata": {},
     "output_type": "execute_result"
    }
   ],
   "source": [
    "s()"
   ]
  },
  {
   "cell_type": "code",
   "execution_count": 6,
   "id": "da793837-5837-4cd8-97ca-184ec4e5ca6b",
   "metadata": {},
   "outputs": [
    {
     "data": {
      "text/plain": [
       "'This is a Function designed by me'"
      ]
     },
     "execution_count": 6,
     "metadata": {},
     "output_type": "execute_result"
    }
   ],
   "source": [
    "s() + \" designed by me\""
   ]
  },
  {
   "cell_type": "code",
   "execution_count": 7,
   "id": "402f55be-f1d4-40dd-a572-9a91d4c7345c",
   "metadata": {},
   "outputs": [],
   "source": [
    "def q():\n",
    "    return 1,2,\"Arnav\""
   ]
  },
  {
   "cell_type": "code",
   "execution_count": 9,
   "id": "0086221c-1b37-47fd-ab95-929280966393",
   "metadata": {},
   "outputs": [
    {
     "data": {
      "text/plain": [
       "(1, 2, 'Arnav')"
      ]
     },
     "execution_count": 9,
     "metadata": {},
     "output_type": "execute_result"
    }
   ],
   "source": [
    "q()"
   ]
  },
  {
   "cell_type": "code",
   "execution_count": 10,
   "id": "615d6f4f-d870-4942-93ed-4183ed40f71f",
   "metadata": {},
   "outputs": [
    {
     "data": {
      "text/plain": [
       "function"
      ]
     },
     "execution_count": 10,
     "metadata": {},
     "output_type": "execute_result"
    }
   ],
   "source": [
    "type(q)"
   ]
  },
  {
   "cell_type": "code",
   "execution_count": 11,
   "id": "dfea2b69-1105-4188-ae64-a3872b01f1fd",
   "metadata": {},
   "outputs": [
    {
     "data": {
      "text/plain": [
       "tuple"
      ]
     },
     "execution_count": 11,
     "metadata": {},
     "output_type": "execute_result"
    }
   ],
   "source": [
    "type(q())"
   ]
  },
  {
   "cell_type": "code",
   "execution_count": 12,
   "id": "efb7af0f-9b45-4c1d-911a-7b5cc5c38ef3",
   "metadata": {},
   "outputs": [],
   "source": [
    "def r(a,b):\n",
    "    return a+b"
   ]
  },
  {
   "cell_type": "code",
   "execution_count": 13,
   "id": "cea8efa6-acba-4c1b-9865-c5939f9ca146",
   "metadata": {},
   "outputs": [
    {
     "data": {
      "text/plain": [
       "9"
      ]
     },
     "execution_count": 13,
     "metadata": {},
     "output_type": "execute_result"
    }
   ],
   "source": [
    "r(4,5)"
   ]
  },
  {
   "cell_type": "code",
   "execution_count": 14,
   "id": "f161b5ae-25a3-40e7-a21a-2c7a93ef21c0",
   "metadata": {},
   "outputs": [
    {
     "data": {
      "text/plain": [
       "[1, 2, 3, 4]"
      ]
     },
     "execution_count": 14,
     "metadata": {},
     "output_type": "execute_result"
    }
   ],
   "source": [
    "r([1,2],[3,4])"
   ]
  },
  {
   "cell_type": "code",
   "execution_count": 17,
   "id": "c1699cf3-75ce-402a-8509-a4f9d8d0f1f7",
   "metadata": {},
   "outputs": [
    {
     "data": {
      "text/plain": [
       "(1, 2, 3, 4)"
      ]
     },
     "execution_count": 17,
     "metadata": {},
     "output_type": "execute_result"
    }
   ],
   "source": [
    "r((1,2),(3,4))"
   ]
  },
  {
   "cell_type": "code",
   "execution_count": 20,
   "id": "ec086038-0889-4e7a-aa0d-c66713535bbd",
   "metadata": {},
   "outputs": [
    {
     "data": {
      "text/plain": [
       "'Arnav  Lakha'"
      ]
     },
     "execution_count": 20,
     "metadata": {},
     "output_type": "execute_result"
    }
   ],
   "source": [
    "r(\"Arnav  \",\"Lakha\")"
   ]
  },
  {
   "cell_type": "code",
   "execution_count": 36,
   "id": "3f83b0fc-5f19-49da-83c7-75f099cf9ea3",
   "metadata": {},
   "outputs": [],
   "source": [
    "# A function that takes input list and returns only numeric values\n",
    "def t(q):\n",
    "    l=[]\n",
    "    for i in q:\n",
    "        if type(i)==int or type(i)==float:\n",
    "            l.append(i)\n",
    "        elif type(i)==list:\n",
    "            for j in i:\n",
    "                if type(j)==int or type(j)==float:\n",
    "                    l.append(j)\n",
    "    return l\n",
    "    "
   ]
  },
  {
   "cell_type": "code",
   "execution_count": 41,
   "id": "78143568-505e-480d-888e-35b35390cfeb",
   "metadata": {},
   "outputs": [],
   "source": [
    "w=[1,2,3,'arnav',12.4,['abc',1,2,13.4,'xyz']]"
   ]
  },
  {
   "cell_type": "code",
   "execution_count": 42,
   "id": "87496030-831f-4bd6-9926-74db0bef771a",
   "metadata": {},
   "outputs": [
    {
     "data": {
      "text/plain": [
       "[1, 2, 3, 'arnav', 12.4, ['abc', 1, 2, 13.4, 'xyz']]"
      ]
     },
     "execution_count": 42,
     "metadata": {},
     "output_type": "execute_result"
    }
   ],
   "source": [
    "w"
   ]
  },
  {
   "cell_type": "code",
   "execution_count": 43,
   "id": "1e2b92a6-694b-4f19-96f0-71b6a256e2d4",
   "metadata": {},
   "outputs": [
    {
     "data": {
      "text/plain": [
       "[1, 2, 3, 12.4, 1, 2, 13.4]"
      ]
     },
     "execution_count": 43,
     "metadata": {},
     "output_type": "execute_result"
    }
   ],
   "source": [
    "t(w)"
   ]
  },
  {
   "cell_type": "code",
   "execution_count": 44,
   "id": "de2429ff-fa2a-4ab3-a131-ce6953cce6ad",
   "metadata": {},
   "outputs": [],
   "source": [
    "def q(*args):\n",
    "    return args"
   ]
  },
  {
   "cell_type": "code",
   "execution_count": 45,
   "id": "06b45240-9b05-4eef-b523-18e0c43236b6",
   "metadata": {},
   "outputs": [
    {
     "data": {
      "text/plain": [
       "(1, 2, 3, 'arnav')"
      ]
     },
     "execution_count": 45,
     "metadata": {},
     "output_type": "execute_result"
    }
   ],
   "source": [
    "q(1,2,3,'arnav')"
   ]
  },
  {
   "cell_type": "code",
   "execution_count": 72,
   "id": "838a6dae-8ec3-4e84-b490-d9f5bb6eb5d4",
   "metadata": {},
   "outputs": [],
   "source": [
    "def w(**w):\n",
    "    return w"
   ]
  },
  {
   "cell_type": "code",
   "execution_count": 73,
   "id": "7df7d5cf-1313-49d6-ac25-6478324eab9c",
   "metadata": {},
   "outputs": [
    {
     "data": {
      "text/plain": [
       "function"
      ]
     },
     "execution_count": 73,
     "metadata": {},
     "output_type": "execute_result"
    }
   ],
   "source": [
    "type(w)"
   ]
  },
  {
   "cell_type": "code",
   "execution_count": 74,
   "id": "12a4df6b-e346-490e-bfac-0ece37188a00",
   "metadata": {},
   "outputs": [
    {
     "data": {
      "text/plain": [
       "function"
      ]
     },
     "execution_count": 74,
     "metadata": {},
     "output_type": "execute_result"
    }
   ],
   "source": [
    "type((w))"
   ]
  },
  {
   "cell_type": "code",
   "execution_count": 75,
   "id": "43a94b34-7b40-4271-a3e9-0c0e0525d5c6",
   "metadata": {},
   "outputs": [
    {
     "data": {
      "text/plain": [
       "dict"
      ]
     },
     "execution_count": 75,
     "metadata": {},
     "output_type": "execute_result"
    }
   ],
   "source": [
    "type(w())"
   ]
  },
  {
   "cell_type": "code",
   "execution_count": 76,
   "id": "8390cdb2-424f-4918-af23-b0af5a69b192",
   "metadata": {},
   "outputs": [
    {
     "data": {
      "text/plain": [
       "{'name': 'arnav'}"
      ]
     },
     "execution_count": 76,
     "metadata": {},
     "output_type": "execute_result"
    }
   ],
   "source": [
    "w(name='arnav')"
   ]
  },
  {
   "cell_type": "code",
   "execution_count": 116,
   "id": "1b83c324-5fe8-4ee2-8c32-0cafd9618b06",
   "metadata": {},
   "outputs": [],
   "source": [
    "# Extracting pairs which have Key-Value pairs\n",
    "def q(**q):\n",
    "    for i in q.keys():\n",
    "        if type(q[i])==list:\n",
    "            return i,q[i]\n",
    "    "
   ]
  },
  {
   "cell_type": "code",
   "execution_count": 117,
   "id": "1158cd70-bc32-4178-a03e-88a58916c18e",
   "metadata": {},
   "outputs": [
    {
     "data": {
      "text/plain": [
       "('v', [12, 3, 44, 5])"
      ]
     },
     "execution_count": 117,
     "metadata": {},
     "output_type": "execute_result"
    }
   ],
   "source": [
    "q(a=12,b='arnav',v=[12,3,44,5])"
   ]
  },
  {
   "cell_type": "code",
   "execution_count": 118,
   "id": "a647b91c-3984-4da2-ac03-cd94cb6e173e",
   "metadata": {},
   "outputs": [],
   "source": [
    "def q(*a,**b):\n",
    "    return a,b\n",
    "    "
   ]
  },
  {
   "cell_type": "code",
   "execution_count": 120,
   "id": "c34859b1-5fbd-44ad-a3a6-d7b0a78fbbe8",
   "metadata": {},
   "outputs": [],
   "source": [
    "e=q(1,2,3,z=12)"
   ]
  },
  {
   "cell_type": "code",
   "execution_count": 121,
   "id": "13e9bc5f-daa4-4674-8b2a-bfb32718721a",
   "metadata": {},
   "outputs": [
    {
     "data": {
      "text/plain": [
       "((1, 2, 3), {'z': 12})"
      ]
     },
     "execution_count": 121,
     "metadata": {},
     "output_type": "execute_result"
    }
   ],
   "source": [
    "e"
   ]
  },
  {
   "cell_type": "code",
   "execution_count": 122,
   "id": "3447dfb9-0f07-425d-bcaa-0f87a7de6c5a",
   "metadata": {},
   "outputs": [
    {
     "data": {
      "text/plain": [
       "{'z': 12}"
      ]
     },
     "execution_count": 122,
     "metadata": {},
     "output_type": "execute_result"
    }
   ],
   "source": [
    "e[-1]"
   ]
  },
  {
   "cell_type": "code",
   "execution_count": 123,
   "id": "2476f188-b936-403d-a907-ebecb4b9c292",
   "metadata": {},
   "outputs": [
    {
     "data": {
      "text/plain": [
       "dict"
      ]
     },
     "execution_count": 123,
     "metadata": {},
     "output_type": "execute_result"
    }
   ],
   "source": [
    "type(e[-1])"
   ]
  },
  {
   "cell_type": "code",
   "execution_count": 128,
   "id": "4d37ef45-1ab0-40e5-bf83-129ef0f2eb20",
   "metadata": {},
   "outputs": [],
   "source": [
    "# Lambda Function\n",
    "a= lambda x,y: (x+y)*(x-y)"
   ]
  },
  {
   "cell_type": "code",
   "execution_count": 130,
   "id": "cd479a4b-808a-41fb-92d7-2f15bb3db183",
   "metadata": {},
   "outputs": [
    {
     "data": {
      "text/plain": [
       "9"
      ]
     },
     "execution_count": 130,
     "metadata": {},
     "output_type": "execute_result"
    }
   ],
   "source": [
    "a(5,4)"
   ]
  },
  {
   "cell_type": "code",
   "execution_count": null,
   "id": "2561eae8-ab32-4717-ba12-d3d3f3b9577e",
   "metadata": {},
   "outputs": [],
   "source": [
    "a9"
   ]
  }
 ],
 "metadata": {
  "kernelspec": {
   "display_name": "Python 3 (ipykernel)",
   "language": "python",
   "name": "python3"
  },
  "language_info": {
   "codemirror_mode": {
    "name": "ipython",
    "version": 3
   },
   "file_extension": ".py",
   "mimetype": "text/x-python",
   "name": "python",
   "nbconvert_exporter": "python",
   "pygments_lexer": "ipython3",
   "version": "3.10.8"
  }
 },
 "nbformat": 4,
 "nbformat_minor": 5
}
