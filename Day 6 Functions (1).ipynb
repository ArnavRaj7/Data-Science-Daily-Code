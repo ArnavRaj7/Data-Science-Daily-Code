{
 "cells": [
  {
   "cell_type": "markdown",
   "id": "dc20dee2-8211-4199-9494-416b839c2746",
   "metadata": {},
   "source": [
    "# Functions"
   ]
  },
  {
   "cell_type": "markdown",
   "id": "9e7b2395-f94f-4ae6-95b5-b24db480bb34",
   "metadata": {},
   "source": [
    "A function is a block of code which only runs when it is called.\n",
    "\n",
    "You can pass data, known as parameters, into a function.\n",
    "\n",
    "A function can return data as a result."
   ]
  },
  {
   "cell_type": "code",
   "execution_count": null,
   "id": "a26d72d4-8b59-489b-9b6a-f9cc99bbd4b7",
   "metadata": {},
   "outputs": [],
   "source": [
    "We Define Functions using 'def' Keyword"
   ]
  },
  {
   "cell_type": "code",
   "execution_count": 2,
   "id": "ceb50942-a245-4989-949a-19b7f7f1cdba",
   "metadata": {},
   "outputs": [],
   "source": [
    "def test():\n",
    "    pass"
   ]
  },
  {
   "cell_type": "code",
   "execution_count": 3,
   "id": "55e6bf31-36e4-4c7a-adbb-bd754d57dace",
   "metadata": {},
   "outputs": [],
   "source": [
    "def test1():\n",
    "    print(\"This is my first Function\")\n",
    "    "
   ]
  },
  {
   "cell_type": "code",
   "execution_count": 4,
   "id": "8034f021-1150-4964-af7c-33d49967e09d",
   "metadata": {},
   "outputs": [
    {
     "name": "stdout",
     "output_type": "stream",
     "text": [
      "This is my first Function\n"
     ]
    }
   ],
   "source": [
    "test1()"
   ]
  },
  {
   "cell_type": "code",
   "execution_count": 5,
   "id": "13b4b99d-ca1b-4261-97bc-ae6f637baf20",
   "metadata": {},
   "outputs": [
    {
     "data": {
      "text/plain": [
       "function"
      ]
     },
     "execution_count": 5,
     "metadata": {},
     "output_type": "execute_result"
    }
   ],
   "source": [
    "type(test1)"
   ]
  },
  {
   "cell_type": "code",
   "execution_count": 6,
   "id": "0c901104-552a-409f-a17b-3aa1071ca6e9",
   "metadata": {},
   "outputs": [
    {
     "name": "stdout",
     "output_type": "stream",
     "text": [
      "This is my first Function\n"
     ]
    },
    {
     "ename": "TypeError",
     "evalue": "unsupported operand type(s) for +: 'NoneType' and 'str'",
     "output_type": "error",
     "traceback": [
      "\u001b[0;31m---------------------------------------------------------------------------\u001b[0m",
      "\u001b[0;31mTypeError\u001b[0m                                 Traceback (most recent call last)",
      "Cell \u001b[0;32mIn[6], line 2\u001b[0m\n\u001b[1;32m      1\u001b[0m \u001b[38;5;66;03m# Let's Try appending a string to the Outcome\u001b[39;00m\n\u001b[0;32m----> 2\u001b[0m \u001b[43mtest1\u001b[49m\u001b[43m(\u001b[49m\u001b[43m)\u001b[49m\u001b[43m \u001b[49m\u001b[38;5;241;43m+\u001b[39;49m\u001b[43m \u001b[49m\u001b[38;5;124;43m\"\u001b[39;49m\u001b[38;5;124;43mArnav\u001b[39;49m\u001b[38;5;124;43m\"\u001b[39;49m\n",
      "\u001b[0;31mTypeError\u001b[0m: unsupported operand type(s) for +: 'NoneType' and 'str'"
     ]
    }
   ],
   "source": [
    "# Let's Try appending a string to the Outcome\n",
    "test1() + \"Arnav\""
   ]
  },
  {
   "cell_type": "markdown",
   "id": "1545f836-a398-4610-9dc9-8bab2c6ff8b9",
   "metadata": {},
   "source": [
    "It is showing error because we've used print() function in test1() and print() always returns 'None-Type'."
   ]
  },
  {
   "cell_type": "code",
   "execution_count": 9,
   "id": "3a34a87a-7b87-4430-b460-81be0f23905e",
   "metadata": {},
   "outputs": [],
   "source": [
    "# Trying another Method\n",
    "def test2():\n",
    "    return \"This is my function using Return\""
   ]
  },
  {
   "cell_type": "code",
   "execution_count": 10,
   "id": "b3a934e3-3dc8-48c5-9899-d9a65c6fc279",
   "metadata": {},
   "outputs": [
    {
     "data": {
      "text/plain": [
       "'This is my function using Return'"
      ]
     },
     "execution_count": 10,
     "metadata": {},
     "output_type": "execute_result"
    }
   ],
   "source": [
    "test2()"
   ]
  },
  {
   "cell_type": "code",
   "execution_count": 12,
   "id": "f43e6beb-853e-4c3d-a9d5-e68353e50ca4",
   "metadata": {},
   "outputs": [
    {
     "data": {
      "text/plain": [
       "'This is my function using Return and I hope it works.'"
      ]
     },
     "execution_count": 12,
     "metadata": {},
     "output_type": "execute_result"
    }
   ],
   "source": [
    "test2() + \" and I hope it works.\""
   ]
  },
  {
   "cell_type": "code",
   "execution_count": 15,
   "id": "3d19b8e2-eb9b-4ada-9d3c-7ef0274275c8",
   "metadata": {},
   "outputs": [
    {
     "data": {
      "text/plain": [
       "(1, 2, 'Arnav', 11.2)"
      ]
     },
     "execution_count": 15,
     "metadata": {},
     "output_type": "execute_result"
    }
   ],
   "source": [
    "# Ques: Can we have multiple returns from a single function?\n",
    "# Answer: Yes, we can. For Example:\n",
    "def test3():\n",
    "    return 1,2,\"Arnav\",11.2\n",
    "test3()"
   ]
  },
  {
   "cell_type": "code",
   "execution_count": 16,
   "id": "7fae2a34-6855-43dd-917e-97fe2c7afa43",
   "metadata": {},
   "outputs": [
    {
     "data": {
      "text/plain": [
       "1"
      ]
     },
     "execution_count": 16,
     "metadata": {},
     "output_type": "execute_result"
    }
   ],
   "source": [
    "test3()[0]"
   ]
  },
  {
   "cell_type": "code",
   "execution_count": 18,
   "id": "8dc7e4fe-0032-42f4-bfdd-8827239bbe8a",
   "metadata": {},
   "outputs": [
    {
     "data": {
      "text/plain": [
       "17"
      ]
     },
     "execution_count": 18,
     "metadata": {},
     "output_type": "execute_result"
    }
   ],
   "source": [
    "# Logic inside a Function\n",
    "def test4():\n",
    "    a=3*4+5\n",
    "    return a\n",
    "test4()"
   ]
  },
  {
   "cell_type": "code",
   "execution_count": 19,
   "id": "d654f774-1b2f-48c9-939b-2657fd1f0550",
   "metadata": {},
   "outputs": [],
   "source": [
    "def test5(a,b):\n",
    "    c=a+b\n",
    "    return c"
   ]
  },
  {
   "cell_type": "code",
   "execution_count": 35,
   "id": "98c42f97-6d18-410e-8696-993f30ddc207",
   "metadata": {},
   "outputs": [
    {
     "data": {
      "text/plain": [
       "9"
      ]
     },
     "execution_count": 35,
     "metadata": {},
     "output_type": "execute_result"
    }
   ],
   "source": [
    "# We can pass integers\n",
    "test5(4,5)"
   ]
  },
  {
   "cell_type": "code",
   "execution_count": 34,
   "id": "ca349b6b-4a96-46a0-88b0-d0fcabbc04cc",
   "metadata": {},
   "outputs": [
    {
     "data": {
      "text/plain": [
       "'Arnav Lakha'"
      ]
     },
     "execution_count": 34,
     "metadata": {},
     "output_type": "execute_result"
    }
   ],
   "source": [
    "# We can pass Strings\n",
    "test5(\"Arnav\",\" Lakha\")"
   ]
  },
  {
   "cell_type": "code",
   "execution_count": 33,
   "id": "f759347b-9bb5-4e51-b986-f535ceb23c9f",
   "metadata": {},
   "outputs": [
    {
     "data": {
      "text/plain": [
       "[1, 2, 3, 4, 5, 6]"
      ]
     },
     "execution_count": 33,
     "metadata": {},
     "output_type": "execute_result"
    }
   ],
   "source": [
    "# We can pass Lists\n",
    "test5([1,2,3],[4,5,6])"
   ]
  },
  {
   "cell_type": "code",
   "execution_count": 32,
   "id": "7dd1e578-aba8-4c67-8f86-db9e58c87e9d",
   "metadata": {},
   "outputs": [
    {
     "ename": "TypeError",
     "evalue": "unsupported operand type(s) for +: 'set' and 'set'",
     "output_type": "error",
     "traceback": [
      "\u001b[0;31m---------------------------------------------------------------------------\u001b[0m",
      "\u001b[0;31mTypeError\u001b[0m                                 Traceback (most recent call last)",
      "Cell \u001b[0;32mIn[32], line 2\u001b[0m\n\u001b[1;32m      1\u001b[0m \u001b[38;5;66;03m# But we cannot pass Set Values\u001b[39;00m\n\u001b[0;32m----> 2\u001b[0m \u001b[43mtest5\u001b[49m\u001b[43m(\u001b[49m\u001b[43m{\u001b[49m\u001b[38;5;241;43m1\u001b[39;49m\u001b[43m,\u001b[49m\u001b[38;5;241;43m2\u001b[39;49m\u001b[43m}\u001b[49m\u001b[43m,\u001b[49m\u001b[43m{\u001b[49m\u001b[38;5;241;43m3\u001b[39;49m\u001b[43m,\u001b[49m\u001b[38;5;241;43m4\u001b[39;49m\u001b[43m}\u001b[49m\u001b[43m)\u001b[49m\n",
      "Cell \u001b[0;32mIn[19], line 2\u001b[0m, in \u001b[0;36mtest5\u001b[0;34m(a, b)\u001b[0m\n\u001b[1;32m      1\u001b[0m \u001b[38;5;28;01mdef\u001b[39;00m \u001b[38;5;21mtest5\u001b[39m(a,b):\n\u001b[0;32m----> 2\u001b[0m     c\u001b[38;5;241m=\u001b[39m\u001b[43ma\u001b[49m\u001b[38;5;241;43m+\u001b[39;49m\u001b[43mb\u001b[49m\n\u001b[1;32m      3\u001b[0m     \u001b[38;5;28;01mreturn\u001b[39;00m c\n",
      "\u001b[0;31mTypeError\u001b[0m: unsupported operand type(s) for +: 'set' and 'set'"
     ]
    }
   ],
   "source": [
    "# But we cannot pass Set Values\n",
    "test5({1,2},{3,4})"
   ]
  },
  {
   "cell_type": "code",
   "execution_count": 31,
   "id": "ac845d52-2a7d-483a-961b-e5eb050acbe0",
   "metadata": {},
   "outputs": [
    {
     "data": {
      "text/plain": [
       "(1, 2, 3, 4)"
      ]
     },
     "execution_count": 31,
     "metadata": {},
     "output_type": "execute_result"
    }
   ],
   "source": [
    "# We can Pass Tuples also\n",
    "test5((1,2),(3,4))"
   ]
  },
  {
   "cell_type": "code",
   "execution_count": 61,
   "id": "c7c6a1b4-11d0-451d-b543-39c8825a9594",
   "metadata": {},
   "outputs": [],
   "source": [
    "# Create a Function which will take List as an input and returns a list with numeric values only\n",
    "l=[1,2,3,4,5,\"Arnav\",\"lakha\",[6,7]]"
   ]
  },
  {
   "cell_type": "code",
   "execution_count": 62,
   "id": "d449db6d-1852-4767-b671-5065b33bd428",
   "metadata": {},
   "outputs": [],
   "source": [
    "# Answer:\n",
    "def test6(a):\n",
    "    n=[]\n",
    "    for i in a:\n",
    "        if type(i)==int or type(i)==float:\n",
    "            n.append(i)\n",
    "    return n"
   ]
  },
  {
   "cell_type": "raw",
   "id": "5bd50f2c-ea32-4b46-8fad-cc67dae0153b",
   "metadata": {},
   "source": [
    "test6(l)"
   ]
  },
  {
   "cell_type": "code",
   "execution_count": 71,
   "id": "f39f1a90-3903-43e6-b298-79bdaa40cef7",
   "metadata": {},
   "outputs": [],
   "source": [
    "# Extract a integer from inside a list,inside a list \n",
    "# Solution:\n",
    "def  test7(a):\n",
    "    nl=[]\n",
    "    for i in a:\n",
    "        if type(i)==list:\n",
    "            for j in i:\n",
    "                if type(j)==int or type(j)==float:\n",
    "                    nl.append(j)\n",
    "            return(nl)"
   ]
  },
  {
   "cell_type": "code",
   "execution_count": 72,
   "id": "fe34a04b-6ecd-487e-a201-8f3b914190cb",
   "metadata": {},
   "outputs": [
    {
     "data": {
      "text/plain": [
       "[6, 7]"
      ]
     },
     "execution_count": 72,
     "metadata": {},
     "output_type": "execute_result"
    }
   ],
   "source": [
    "test7(l)"
   ]
  },
  {
   "cell_type": "code",
   "execution_count": 102,
   "id": "412d5af8-634c-4ca2-afd8-87cfc85b28b6",
   "metadata": {},
   "outputs": [],
   "source": [
    "# Extract numbers from both lists and nested lists\n",
    "# Solution:\n",
    "def test8(a):\n",
    "    nl=[]\n",
    "    for i in a:\n",
    "        if type(i)==int or type(i)==float:\n",
    "            nl.append(i)\n",
    "        else:\n",
    "            if type(i)==list:\n",
    "                for j in i:\n",
    "                    if type(j)==int or type(j)==float:\n",
    "                        nl.append(j)\n",
    "    return nl\n",
    "            "
   ]
  },
  {
   "cell_type": "code",
   "execution_count": 103,
   "id": "a656b0a4-bf2c-41d6-9163-a700d5033612",
   "metadata": {},
   "outputs": [
    {
     "data": {
      "text/plain": [
       "[1, 2, 3, 4, 5, 6, 7]"
      ]
     },
     "execution_count": 103,
     "metadata": {},
     "output_type": "execute_result"
    }
   ],
   "source": [
    "test8(l)"
   ]
  },
  {
   "cell_type": "markdown",
   "id": "9186164e-ee94-43d7-84d5-5326b75c2bf5",
   "metadata": {},
   "source": [
    "We Can Create a Function That can take any number of arguments without the need of declaring variables while defining the Function"
   ]
  },
  {
   "cell_type": "code",
   "execution_count": 14,
   "id": "c07849a8-b80b-4995-9e46-4ce5411d350a",
   "metadata": {},
   "outputs": [],
   "source": [
    "#We can pass any number of arguments through this method\n",
    "def f(*args):\n",
    "    return args"
   ]
  },
  {
   "cell_type": "code",
   "execution_count": 15,
   "id": "dfb6bce8-f5c8-467b-886f-65f1c6b33c78",
   "metadata": {},
   "outputs": [
    {
     "data": {
      "text/plain": [
       "(1, 23, 4)"
      ]
     },
     "execution_count": 15,
     "metadata": {},
     "output_type": "execute_result"
    }
   ],
   "source": [
    "f(1,23,4)"
   ]
  },
  {
   "cell_type": "code",
   "execution_count": 17,
   "id": "bcf6eadb-a438-4860-b982-7a7ea7d78566",
   "metadata": {},
   "outputs": [
    {
     "data": {
      "text/plain": [
       "(['a', 'b', 'c'], 1, 2, 3, 4, 5)"
      ]
     },
     "execution_count": 17,
     "metadata": {},
     "output_type": "execute_result"
    }
   ],
   "source": [
    "f([\"a\",\"b\",\"c\"],1,2,3,4,5)"
   ]
  },
  {
   "cell_type": "code",
   "execution_count": 1,
   "id": "3e6c1bf7-0ff0-47c9-98fd-b3bd93c4dabd",
   "metadata": {},
   "outputs": [],
   "source": [
    "# Question: Can I use 'args' only?\n",
    "# Answer:No, we can use anything. For eg:\n",
    "def t(*arnav):\n",
    "    return arnav"
   ]
  },
  {
   "cell_type": "code",
   "execution_count": 2,
   "id": "dce4b7f9-4cab-460a-a7a5-68d2a5c07f9c",
   "metadata": {},
   "outputs": [
    {
     "data": {
      "text/plain": [
       "(1, 'xyz', 2, 'abc')"
      ]
     },
     "execution_count": 2,
     "metadata": {},
     "output_type": "execute_result"
    }
   ],
   "source": [
    "t(1,\"xyz\",2,\"abc\")"
   ]
  },
  {
   "cell_type": "code",
   "execution_count": 43,
   "id": "e2ddb7f7-9622-4fb3-88a2-ff47521f6ae2",
   "metadata": {},
   "outputs": [],
   "source": [
    "# Function to identify Lists from arguments\n",
    "def t1(*a):\n",
    "    l=[]\n",
    "    for i in a:\n",
    "        if type(i)==list:\n",
    "            l.append(i)\n",
    "    return l"
   ]
  },
  {
   "cell_type": "code",
   "execution_count": 45,
   "id": "bd26dd55-aa19-4f60-980c-d7f624b45821",
   "metadata": {},
   "outputs": [
    {
     "data": {
      "text/plain": [
       "[[4, 5, 6], ['10', 11, 12]]"
      ]
     },
     "execution_count": 45,
     "metadata": {},
     "output_type": "execute_result"
    }
   ],
   "source": [
    "t1(1,2,3,[4,5,6],(7,8,9),[\"10\",11,12])"
   ]
  },
  {
   "cell_type": "code",
   "execution_count": 48,
   "id": "39052714-0d52-48cd-ad10-ec24e4683bec",
   "metadata": {},
   "outputs": [],
   "source": [
    "# How to Pass Key-Value Pairs as arguments?\n",
    "\n",
    "def a(**b):\n",
    "    return b"
   ]
  },
  {
   "cell_type": "code",
   "execution_count": 52,
   "id": "3af0041c-8fdd-4e63-8ad7-22176087102d",
   "metadata": {},
   "outputs": [
    {
     "data": {
      "text/plain": [
       "{}"
      ]
     },
     "execution_count": 52,
     "metadata": {},
     "output_type": "execute_result"
    }
   ],
   "source": [
    "a()"
   ]
  },
  {
   "cell_type": "code",
   "execution_count": 53,
   "id": "7d73ada5-0311-4f78-8e94-a3a2510c5fc2",
   "metadata": {},
   "outputs": [
    {
     "data": {
      "text/plain": [
       "dict"
      ]
     },
     "execution_count": 53,
     "metadata": {},
     "output_type": "execute_result"
    }
   ],
   "source": [
    "type(a())"
   ]
  },
  {
   "cell_type": "code",
   "execution_count": 57,
   "id": "802a3e63-b2f5-46f0-bd1c-7994a5190f78",
   "metadata": {},
   "outputs": [
    {
     "data": {
      "text/plain": [
       "{'c': 12, 'd': 47, 'e': (1, 2, 3), 'f': [4, 5, 6], 'g': {34, 45}}"
      ]
     },
     "execution_count": 57,
     "metadata": {},
     "output_type": "execute_result"
    }
   ],
   "source": [
    "a(c=12,d=47,e=(1,2,3),f=[4,5,6],g={34,45})"
   ]
  },
  {
   "cell_type": "code",
   "execution_count": 58,
   "id": "8fae8508-d7f0-4357-bd0f-59239228c86e",
   "metadata": {},
   "outputs": [
    {
     "data": {
      "text/plain": [
       "function"
      ]
     },
     "execution_count": 58,
     "metadata": {},
     "output_type": "execute_result"
    }
   ],
   "source": [
    "type(a)"
   ]
  },
  {
   "cell_type": "code",
   "execution_count": 59,
   "id": "c0d09dea-3f3f-4406-924a-21536ad1493f",
   "metadata": {},
   "outputs": [
    {
     "data": {
      "text/plain": [
       "dict"
      ]
     },
     "execution_count": 59,
     "metadata": {},
     "output_type": "execute_result"
    }
   ],
   "source": [
    "type(a())"
   ]
  },
  {
   "cell_type": "code",
   "execution_count": 81,
   "id": "c4f1344a-a8a8-4e88-bbce-9fff1c8416a1",
   "metadata": {},
   "outputs": [],
   "source": [
    "# Extract a Key-Value pair from dictionary in a function:\n",
    "def test(**a):\n",
    "    for i in a.keys():\n",
    "        if type(a[i])==list:\n",
    "            return i,a[i]"
   ]
  },
  {
   "cell_type": "code",
   "execution_count": 82,
   "id": "85d8f09e-cfa8-4f9a-9729-5c29a9236af8",
   "metadata": {},
   "outputs": [
    {
     "data": {
      "text/plain": [
       "('f', [4, 5, 6])"
      ]
     },
     "execution_count": 82,
     "metadata": {},
     "output_type": "execute_result"
    }
   ],
   "source": [
    "test(c=12,d=47,e=(1,2,3),f=[4,5,6],g={34,45})"
   ]
  },
  {
   "cell_type": "code",
   "execution_count": 86,
   "id": "d01bf758-8c41-437c-ac02-100d165bb70d",
   "metadata": {},
   "outputs": [],
   "source": [
    "def q(*w,**e):\n",
    "    return w,e"
   ]
  },
  {
   "cell_type": "code",
   "execution_count": 87,
   "id": "2fab1eae-45a1-4a97-bc64-9cb35535c0d5",
   "metadata": {},
   "outputs": [
    {
     "data": {
      "text/plain": [
       "((1, 2, 3), {'a': 12, 'b': 23})"
      ]
     },
     "execution_count": 87,
     "metadata": {},
     "output_type": "execute_result"
    }
   ],
   "source": [
    "q(1,2,3,a=12,b=23)"
   ]
  },
  {
   "cell_type": "markdown",
   "id": "afcf1ded-6813-4ad8-975c-85620f99dc03",
   "metadata": {},
   "source": [
    "# Generator Functions"
   ]
  },
  {
   "cell_type": "code",
   "execution_count": 90,
   "id": "725ba45a-00e4-463e-a3cc-c5f28ca92973",
   "metadata": {},
   "outputs": [
    {
     "name": "stdout",
     "output_type": "stream",
     "text": [
      "0\n",
      "1\n",
      "2\n",
      "3\n",
      "4\n",
      "5\n",
      "6\n",
      "7\n",
      "8\n"
     ]
    }
   ],
   "source": [
    "range(0,9)\n",
    "\n",
    "for i in range(0,9):\n",
    "    print(i)"
   ]
  },
  {
   "cell_type": "raw",
   "id": "63bc9395-0b9d-4ec6-ab44-a2826c9d08be",
   "metadata": {},
   "source": [
    "To Know the numbers in Range ,we have to write some code for it."
   ]
  },
  {
   "cell_type": "code",
   "execution_count": 99,
   "id": "f00083aa-2382-4b1a-bea1-989622a28b67",
   "metadata": {},
   "outputs": [],
   "source": [
    "def e(a):\n",
    "    n=[]\n",
    "    for i in a:\n",
    "        if type(i)==int:\n",
    "            n.append(i)\n",
    "    return n"
   ]
  },
  {
   "cell_type": "code",
   "execution_count": 100,
   "id": "89fc1722-bc49-48bc-bdce-46165b9aca60",
   "metadata": {},
   "outputs": [],
   "source": [
    "l=[1,2,3,4,5]"
   ]
  },
  {
   "cell_type": "code",
   "execution_count": 101,
   "id": "d7da4153-a932-4885-a840-ce8e5acf16fb",
   "metadata": {},
   "outputs": [
    {
     "data": {
      "text/plain": [
       "[1, 2, 3, 4, 5]"
      ]
     },
     "execution_count": 101,
     "metadata": {},
     "output_type": "execute_result"
    }
   ],
   "source": [
    "l"
   ]
  },
  {
   "cell_type": "code",
   "execution_count": 102,
   "id": "c283981b-d1fa-40e3-be24-bff8f3e01f77",
   "metadata": {},
   "outputs": [
    {
     "data": {
      "text/plain": [
       "[1, 2, 3, 4, 5]"
      ]
     },
     "execution_count": 102,
     "metadata": {},
     "output_type": "execute_result"
    }
   ],
   "source": [
    "e(l)"
   ]
  },
  {
   "cell_type": "raw",
   "id": "1d3eb787-5f76-455e-8d12-0be9532dda7b",
   "metadata": {},
   "source": [
    "This Method is OK for smaller data like this one, but will be unsuccessful for large datasets due it's high Time Complexity."
   ]
  },
  {
   "cell_type": "code",
   "execution_count": 4,
   "id": "6aa432e2-c2b6-40f2-9ec0-12a9655599c5",
   "metadata": {},
   "outputs": [],
   "source": [
    "# Question: Fibonacci series using 'Yeild\" function\n",
    "# Solution:\n",
    "def f(n):\n",
    "    a,b=0,1\n",
    "    for i in range(n):\n",
    "        yield a\n",
    "        a,b=b,b+a"
   ]
  },
  {
   "cell_type": "code",
   "execution_count": 5,
   "id": "13531155-be67-47db-a26c-44572324b105",
   "metadata": {},
   "outputs": [
    {
     "data": {
      "text/plain": [
       "<generator object f at 0x7f2f57eb2340>"
      ]
     },
     "execution_count": 5,
     "metadata": {},
     "output_type": "execute_result"
    }
   ],
   "source": [
    "f(10)"
   ]
  },
  {
   "cell_type": "code",
   "execution_count": 6,
   "id": "c2ee25f0-15b6-4eb6-a129-9fe81d14fa9b",
   "metadata": {},
   "outputs": [
    {
     "name": "stdout",
     "output_type": "stream",
     "text": [
      "0\n",
      "1\n",
      "1\n",
      "2\n",
      "3\n",
      "5\n",
      "8\n",
      "13\n",
      "21\n",
      "34\n",
      "55\n"
     ]
    }
   ],
   "source": [
    "for i in f(11):\n",
    "    print(i)"
   ]
  },
  {
   "cell_type": "markdown",
   "id": "d1312055-3b27-4d8e-93ca-65c28ea44497",
   "metadata": {},
   "source": [
    "# Generator Functions 2\n"
   ]
  },
  {
   "cell_type": "code",
   "execution_count": 18,
   "id": "e0c99cad-8776-4a0b-a818-dc2ca252e991",
   "metadata": {},
   "outputs": [],
   "source": [
    "def q(a):\n",
    "    l=[]\n",
    "    for i in a:\n",
    "        if type(i)==int:\n",
    "            l.append(i)\n",
    "    return l\n",
    "        "
   ]
  },
  {
   "cell_type": "code",
   "execution_count": 19,
   "id": "0251bdaf-58bd-47ed-9363-5484c79b0270",
   "metadata": {},
   "outputs": [],
   "source": [
    "w=[1,2,3,'arnav']"
   ]
  },
  {
   "cell_type": "code",
   "execution_count": 20,
   "id": "ee6c637c-6f36-444e-93dc-82b5f98c5ce2",
   "metadata": {},
   "outputs": [
    {
     "data": {
      "text/plain": [
       "list"
      ]
     },
     "execution_count": 20,
     "metadata": {},
     "output_type": "execute_result"
    }
   ],
   "source": [
    "type(w)"
   ]
  },
  {
   "cell_type": "code",
   "execution_count": 21,
   "id": "71abb6db-33f3-44da-9314-d3eaa9cc5a22",
   "metadata": {},
   "outputs": [
    {
     "data": {
      "text/plain": [
       "[1, 2, 3]"
      ]
     },
     "execution_count": 21,
     "metadata": {},
     "output_type": "execute_result"
    }
   ],
   "source": [
    "q(w)"
   ]
  },
  {
   "cell_type": "code",
   "execution_count": 22,
   "id": "0965b3ab-f45e-4244-87c7-7d9b0e9f669c",
   "metadata": {},
   "outputs": [],
   "source": [
    "def w(n):\n",
    "    a,b=0,1\n",
    "    for i in range(n):\n",
    "        yield a\n",
    "        a,b=b,a+b"
   ]
  },
  {
   "cell_type": "code",
   "execution_count": 23,
   "id": "0cdf2ab7-4b07-421f-9ad8-11df43eabbad",
   "metadata": {},
   "outputs": [
    {
     "data": {
      "text/plain": [
       "<generator object w at 0x7f7a9845fed0>"
      ]
     },
     "execution_count": 23,
     "metadata": {},
     "output_type": "execute_result"
    }
   ],
   "source": [
    "w(10)"
   ]
  },
  {
   "cell_type": "code",
   "execution_count": 24,
   "id": "acfdf64c-a887-407f-b358-d559a9b7b2d3",
   "metadata": {},
   "outputs": [
    {
     "name": "stdout",
     "output_type": "stream",
     "text": [
      "0\n",
      "1\n",
      "1\n",
      "2\n",
      "3\n",
      "5\n",
      "8\n",
      "13\n",
      "21\n",
      "34\n"
     ]
    }
   ],
   "source": [
    "for i in w(10):\n",
    "    print(i)"
   ]
  },
  {
   "cell_type": "markdown",
   "id": "cbea5408-549b-40cc-9ed5-78e1d8141ec2",
   "metadata": {},
   "source": [
    "# Lambda Functions"
   ]
  },
  {
   "cell_type": "code",
   "execution_count": 4,
   "id": "63b46f0c-aa36-46ad-b5ff-785e43032050",
   "metadata": {},
   "outputs": [],
   "source": [
    "a= lambda n,p: n**p"
   ]
  },
  {
   "cell_type": "code",
   "execution_count": 5,
   "id": "190172e3-9ad1-4fa2-9f48-4bdf7549bd8f",
   "metadata": {},
   "outputs": [
    {
     "data": {
      "text/plain": [
       "9"
      ]
     },
     "execution_count": 5,
     "metadata": {},
     "output_type": "execute_result"
    }
   ],
   "source": [
    "a(3,2)"
   ]
  },
  {
   "cell_type": "code",
   "execution_count": 30,
   "id": "76ad18d2-af37-4877-b07b-05c825b18ec2",
   "metadata": {},
   "outputs": [],
   "source": [
    "q= lambda e,r: e/r"
   ]
  },
  {
   "cell_type": "code",
   "execution_count": 31,
   "id": "bd36c7ac-794e-48b2-bb30-fc26172d3fba",
   "metadata": {},
   "outputs": [
    {
     "data": {
      "text/plain": [
       "4.0"
      ]
     },
     "execution_count": 31,
     "metadata": {},
     "output_type": "execute_result"
    }
   ],
   "source": [
    "q(28,7)"
   ]
  },
  {
   "cell_type": "code",
   "execution_count": 35,
   "id": "642fee60-7011-42ce-83a4-d5c5708ec2ae",
   "metadata": {},
   "outputs": [],
   "source": [
    "w=lambda e: (9/5)*e +32"
   ]
  },
  {
   "cell_type": "code",
   "execution_count": 38,
   "id": "54c36c3d-a58c-443a-bff6-7824486f08c3",
   "metadata": {},
   "outputs": [
    {
     "data": {
      "text/plain": [
       "32.0"
      ]
     },
     "execution_count": 38,
     "metadata": {},
     "output_type": "execute_result"
    }
   ],
   "source": [
    "w(0)"
   ]
  },
  {
   "cell_type": "code",
   "execution_count": 39,
   "id": "336ea3bc-903c-47fa-b027-0112e7933f9a",
   "metadata": {},
   "outputs": [],
   "source": [
    "e = lambda x,y : x if x > y else y"
   ]
  },
  {
   "cell_type": "code",
   "execution_count": 40,
   "id": "e1b78ef0-ff6a-4664-967a-6e0ac7d83144",
   "metadata": {},
   "outputs": [
    {
     "data": {
      "text/plain": [
       "5"
      ]
     },
     "execution_count": 40,
     "metadata": {},
     "output_type": "execute_result"
    }
   ],
   "source": [
    "e(4,5)"
   ]
  },
  {
   "cell_type": "code",
   "execution_count": 41,
   "id": "7f3d3b30-2489-4355-bfc6-1a346c1ba961",
   "metadata": {},
   "outputs": [],
   "source": [
    "g = lambda w: len(w)"
   ]
  },
  {
   "cell_type": "code",
   "execution_count": 42,
   "id": "9aafcd1c-9733-4e43-abf1-e73929d366f3",
   "metadata": {},
   "outputs": [
    {
     "data": {
      "text/plain": [
       "5"
      ]
     },
     "execution_count": 42,
     "metadata": {},
     "output_type": "execute_result"
    }
   ],
   "source": [
    "g(\"Arnav\")"
   ]
  },
  {
   "cell_type": "code",
   "execution_count": 43,
   "id": "97c959bf-4505-4b54-b472-ec881224a7b8",
   "metadata": {},
   "outputs": [],
   "source": [
    "a=\"qwerty\""
   ]
  },
  {
   "cell_type": "code",
   "execution_count": 44,
   "id": "86aafba4-0d7f-4213-8510-052a2a2df6dd",
   "metadata": {},
   "outputs": [
    {
     "data": {
      "text/plain": [
       "6"
      ]
     },
     "execution_count": 44,
     "metadata": {},
     "output_type": "execute_result"
    }
   ],
   "source": [
    "g(a)"
   ]
  },
  {
   "cell_type": "code",
   "execution_count": 8,
   "id": "3924e3d6-a3b9-4528-b24d-b06f35226baa",
   "metadata": {},
   "outputs": [],
   "source": [
    "a= lambda q,w: q+w"
   ]
  },
  {
   "cell_type": "code",
   "execution_count": 9,
   "id": "189f674a-4c29-4d3c-a151-4934bccd7713",
   "metadata": {},
   "outputs": [
    {
     "data": {
      "text/plain": [
       "5"
      ]
     },
     "execution_count": 9,
     "metadata": {},
     "output_type": "execute_result"
    }
   ],
   "source": [
    "a(3,2)"
   ]
  },
  {
   "cell_type": "markdown",
   "id": "6e1df1ad-af70-4ecb-afaa-8c83d24adbd1",
   "metadata": {},
   "source": [
    "# MAP"
   ]
  },
  {
   "cell_type": "code",
   "execution_count": 12,
   "id": "6d339db9-70fb-46d5-99a5-084db230d94e",
   "metadata": {},
   "outputs": [],
   "source": [
    "d =[1,2,3,45,93]"
   ]
  },
  {
   "cell_type": "code",
   "execution_count": 9,
   "id": "6db07560-9d81-47f4-9d51-2bfe8c674cdf",
   "metadata": {},
   "outputs": [],
   "source": [
    "def t(w):\n",
    "    l1=[]\n",
    "    for i in w:\n",
    "        l1.append(i**2)\n",
    "    return l1"
   ]
  },
  {
   "cell_type": "code",
   "execution_count": 10,
   "id": "e5590141-6db8-472e-ac0f-0cadf82abbbd",
   "metadata": {},
   "outputs": [
    {
     "data": {
      "text/plain": [
       "[1, 4, 9, 2025, 8649]"
      ]
     },
     "execution_count": 10,
     "metadata": {},
     "output_type": "execute_result"
    }
   ],
   "source": [
    "t(d)"
   ]
  },
  {
   "cell_type": "code",
   "execution_count": 10,
   "id": "60359ef7-c676-4b40-af45-d55eb11409a4",
   "metadata": {},
   "outputs": [],
   "source": [
    "def sq(x):\n",
    "    return x**2"
   ]
  },
  {
   "cell_type": "code",
   "execution_count": 13,
   "id": "de1f8fdb-357e-495a-86e3-a4da5f52f586",
   "metadata": {},
   "outputs": [
    {
     "data": {
      "text/plain": [
       "[1, 4, 9, 2025, 8649]"
      ]
     },
     "execution_count": 13,
     "metadata": {},
     "output_type": "execute_result"
    }
   ],
   "source": [
    "list(map(sq,d))"
   ]
  },
  {
   "cell_type": "code",
   "execution_count": 14,
   "id": "bfb292e1-f55d-420e-ad26-c81fe3f79470",
   "metadata": {},
   "outputs": [
    {
     "data": {
      "text/plain": [
       "[1, 4, 9, 2025, 8649]"
      ]
     },
     "execution_count": 14,
     "metadata": {},
     "output_type": "execute_result"
    }
   ],
   "source": [
    "list(map(lambda z: z**2,d))"
   ]
  },
  {
   "cell_type": "code",
   "execution_count": 15,
   "id": "e25455b5-ed8c-4959-af15-339c9970698a",
   "metadata": {},
   "outputs": [
    {
     "data": {
      "text/plain": [
       "[2, 4, 6, 90, 186]"
      ]
     },
     "execution_count": 15,
     "metadata": {},
     "output_type": "execute_result"
    }
   ],
   "source": [
    "list(map(lambda q:q*2,d))"
   ]
  },
  {
   "cell_type": "code",
   "execution_count": 17,
   "id": "268cb454-634d-45bb-b299-c6d45752d451",
   "metadata": {},
   "outputs": [],
   "source": [
    "a=list(map(lambda w: str(w),d))"
   ]
  },
  {
   "cell_type": "code",
   "execution_count": 18,
   "id": "520472d3-41c3-47fb-b273-4613363f01d8",
   "metadata": {},
   "outputs": [
    {
     "data": {
      "text/plain": [
       "['1', '2', '3', '45', '93']"
      ]
     },
     "execution_count": 18,
     "metadata": {},
     "output_type": "execute_result"
    }
   ],
   "source": [
    "a"
   ]
  },
  {
   "cell_type": "code",
   "execution_count": 19,
   "id": "2d391bec-6ff5-42f1-9f0d-0e83bbd0196e",
   "metadata": {},
   "outputs": [
    {
     "data": {
      "text/plain": [
       "list"
      ]
     },
     "execution_count": 19,
     "metadata": {},
     "output_type": "execute_result"
    }
   ],
   "source": [
    "type(a)"
   ]
  },
  {
   "cell_type": "code",
   "execution_count": 20,
   "id": "32816a70-17e7-49d9-8e5f-60af76170804",
   "metadata": {},
   "outputs": [],
   "source": [
    "l1=[1,2,3,4,5]\n",
    "l2=[6,7,8,9,10]"
   ]
  },
  {
   "cell_type": "code",
   "execution_count": 23,
   "id": "e010e42f-8207-487f-9654-408f11d6186e",
   "metadata": {},
   "outputs": [],
   "source": [
    "a=map(lambda x,y: x+y,l1,l2)"
   ]
  },
  {
   "cell_type": "code",
   "execution_count": 24,
   "id": "ff7c190b-15cf-485e-bae3-bef1c522c265",
   "metadata": {},
   "outputs": [
    {
     "data": {
      "text/plain": [
       "<map at 0x7ff0b03fc1c0>"
      ]
     },
     "execution_count": 24,
     "metadata": {},
     "output_type": "execute_result"
    }
   ],
   "source": [
    "a"
   ]
  },
  {
   "cell_type": "code",
   "execution_count": 25,
   "id": "0d2d2d47-2263-45c8-80be-1090a78c6e7c",
   "metadata": {},
   "outputs": [
    {
     "data": {
      "text/plain": [
       "[7, 9, 11, 13, 15]"
      ]
     },
     "execution_count": 25,
     "metadata": {},
     "output_type": "execute_result"
    }
   ],
   "source": [
    "list(a)"
   ]
  },
  {
   "cell_type": "code",
   "execution_count": 32,
   "id": "cf5e43f5-f503-48c5-8bfb-d2397872400c",
   "metadata": {},
   "outputs": [],
   "source": [
    "s=l2[::-1]"
   ]
  },
  {
   "cell_type": "code",
   "execution_count": 33,
   "id": "7c8def1d-e14f-40c2-bd2a-de29fef6d5aa",
   "metadata": {},
   "outputs": [
    {
     "data": {
      "text/plain": [
       "[10, 9, 8, 7, 6]"
      ]
     },
     "execution_count": 33,
     "metadata": {},
     "output_type": "execute_result"
    }
   ],
   "source": [
    "s"
   ]
  },
  {
   "cell_type": "code",
   "execution_count": 34,
   "id": "f1f3222a-1d65-494f-a8d8-9372c4a1d82c",
   "metadata": {},
   "outputs": [
    {
     "data": {
      "text/plain": [
       "[11, 11, 11, 11, 11]"
      ]
     },
     "execution_count": 34,
     "metadata": {},
     "output_type": "execute_result"
    }
   ],
   "source": [
    "list(map(lambda c,v:c+v,l1,s))"
   ]
  },
  {
   "cell_type": "code",
   "execution_count": 35,
   "id": "cef6f73d-c9b5-4ff9-a557-16c39dbab14d",
   "metadata": {},
   "outputs": [
    {
     "data": {
      "text/plain": [
       "[11, 11, 11, 11, 11]"
      ]
     },
     "execution_count": 35,
     "metadata": {},
     "output_type": "execute_result"
    }
   ],
   "source": [
    "list(map(lambda x,c:x+c,l1,l2[::-1]))"
   ]
  },
  {
   "cell_type": "code",
   "execution_count": 2,
   "id": "c851a3de-8117-4458-93d0-2c2547cc9d9f",
   "metadata": {},
   "outputs": [],
   "source": [
    "s= \"arnav\""
   ]
  },
  {
   "cell_type": "code",
   "execution_count": 3,
   "id": "8a342354-80c4-4f2e-841d-a8ae8fa593e4",
   "metadata": {},
   "outputs": [],
   "source": [
    "q=lambda x: x.upper()"
   ]
  },
  {
   "cell_type": "code",
   "execution_count": 5,
   "id": "5e48b2e6-ba7f-4081-b099-e5dce4d9b7be",
   "metadata": {},
   "outputs": [],
   "source": [
    "w=map(q,s)"
   ]
  },
  {
   "cell_type": "code",
   "execution_count": 6,
   "id": "e472fb0c-da9b-49dd-b9cd-bf1f346551bb",
   "metadata": {},
   "outputs": [
    {
     "data": {
      "text/plain": [
       "['A', 'R', 'N', 'A', 'V']"
      ]
     },
     "execution_count": 6,
     "metadata": {},
     "output_type": "execute_result"
    }
   ],
   "source": [
    "list(w)"
   ]
  },
  {
   "cell_type": "markdown",
   "id": "97466dcd-9058-4bf4-abf8-cac69e828934",
   "metadata": {},
   "source": [
    "# Reduce Functions"
   ]
  },
  {
   "cell_type": "code",
   "execution_count": 3,
   "id": "fda1d15b-83dc-47bd-aa20-d3c5e1e35ce7",
   "metadata": {},
   "outputs": [],
   "source": [
    "from functools import reduce "
   ]
  },
  {
   "cell_type": "code",
   "execution_count": 2,
   "id": "7701335e-4ba5-413a-8c8e-7f0441e55cf0",
   "metadata": {},
   "outputs": [],
   "source": [
    "l=[1,2,3,4,5]"
   ]
  },
  {
   "cell_type": "code",
   "execution_count": 3,
   "id": "d0542f86-6927-4f12-89b9-2aedda55ba4c",
   "metadata": {},
   "outputs": [
    {
     "data": {
      "text/plain": [
       "15"
      ]
     },
     "execution_count": 3,
     "metadata": {},
     "output_type": "execute_result"
    }
   ],
   "source": [
    "reduce(lambda x,y: x+y,l)"
   ]
  },
  {
   "cell_type": "code",
   "execution_count": 4,
   "id": "19056663-80ad-4349-b189-b968cd0f020e",
   "metadata": {},
   "outputs": [
    {
     "data": {
      "text/plain": [
       "87"
      ]
     },
     "execution_count": 4,
     "metadata": {},
     "output_type": "execute_result"
    }
   ],
   "source": [
    "q=[12,34,56,87,32]\n",
    "reduce(lambda e,r: e if e>r else r,q)"
   ]
  },
  {
   "cell_type": "markdown",
   "id": "721054d0-32ea-448c-a266-4ed54a289598",
   "metadata": {},
   "source": [
    "# Filter Function"
   ]
  },
  {
   "cell_type": "code",
   "execution_count": 5,
   "id": "1e78a1bf-e6de-4882-b686-5b1a49820362",
   "metadata": {},
   "outputs": [
    {
     "data": {
      "text/plain": [
       "[12, 34, 56, 87, 32]"
      ]
     },
     "execution_count": 5,
     "metadata": {},
     "output_type": "execute_result"
    }
   ],
   "source": [
    "q"
   ]
  },
  {
   "cell_type": "code",
   "execution_count": 6,
   "id": "5b485b64-8a9c-4c2f-8565-9ad5c3497c68",
   "metadata": {},
   "outputs": [
    {
     "data": {
      "text/plain": [
       "[12, 34, 56, 32]"
      ]
     },
     "execution_count": 6,
     "metadata": {},
     "output_type": "execute_result"
    }
   ],
   "source": [
    "list(filter(lambda x: x %2==0,q))"
   ]
  },
  {
   "cell_type": "code",
   "execution_count": 8,
   "id": "c174196d-035e-437e-9c65-cc7d5b0d581d",
   "metadata": {},
   "outputs": [
    {
     "data": {
      "text/plain": [
       "[-1, -4, -56]"
      ]
     },
     "execution_count": 8,
     "metadata": {},
     "output_type": "execute_result"
    }
   ],
   "source": [
    "a=[1,-1,2,-4,78,-56]\n",
    "list(filter(lambda x: x<0,a))"
   ]
  },
  {
   "cell_type": "code",
   "execution_count": 9,
   "id": "5d0e4682-3f7a-49c3-9865-8da955c9db45",
   "metadata": {},
   "outputs": [
    {
     "data": {
      "text/plain": [
       "[1, 2, 78]"
      ]
     },
     "execution_count": 9,
     "metadata": {},
     "output_type": "execute_result"
    }
   ],
   "source": [
    "list(filter(lambda x: x>0,a))"
   ]
  },
  {
   "cell_type": "code",
   "execution_count": 17,
   "id": "ec7e467a-d023-4616-9fe7-85a87d079c10",
   "metadata": {},
   "outputs": [
    {
     "data": {
      "text/plain": [
       "['thirsty']"
      ]
     },
     "execution_count": 17,
     "metadata": {},
     "output_type": "execute_result"
    }
   ],
   "source": [
    "d=[\"arnav\",\"qwerty\",\"thirsty\"]\n",
    "list(filter(lambda x: len(x)> 6,d))"
   ]
  },
  {
   "cell_type": "code",
   "execution_count": null,
   "id": "0ad3aac5-99cb-43ca-ab8a-b227d85c7320",
   "metadata": {},
   "outputs": [],
   "source": []
  }
 ],
 "metadata": {
  "kernelspec": {
   "display_name": "Python 3 (ipykernel)",
   "language": "python",
   "name": "python3"
  },
  "language_info": {
   "codemirror_mode": {
    "name": "ipython",
    "version": 3
   },
   "file_extension": ".py",
   "mimetype": "text/x-python",
   "name": "python",
   "nbconvert_exporter": "python",
   "pygments_lexer": "ipython3",
   "version": "3.10.8"
  }
 },
 "nbformat": 4,
 "nbformat_minor": 5
}
